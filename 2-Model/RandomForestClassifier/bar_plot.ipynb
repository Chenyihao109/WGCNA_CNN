{
 "cells": [
  {
   "cell_type": "code",
   "execution_count": 43,
   "id": "6b4b4bd8",
   "metadata": {},
   "outputs": [],
   "source": [
    "import numpy as np\n",
    "import torch\n",
    "import torch.nn as nn\n",
    "import pandas as pd\n",
    "from torch.utils.data import DataLoader   #包装可迭代的数据\n",
    "import torch.utils.data as Data \n",
    "\n",
    "from sklearn.model_selection import KFold\n",
    "import matplotlib.pyplot as plt\n",
    "from sklearn.metrics import roc_curve, auc  ###计算roc和auc"
   ]
  },
  {
   "cell_type": "code",
   "execution_count": 44,
   "id": "86ac8fc7",
   "metadata": {},
   "outputs": [
    {
     "name": "stdout",
     "output_type": "stream",
     "text": [
      "(7077, 1)\n"
     ]
    }
   ],
   "source": [
    "label=np.genfromtxt('image_data_label_1_1.csv',delimiter=',')\n",
    "label=label.reshape((7077,1))   #设置格式\n",
    "print(label.shape)\n",
    "label=torch.from_numpy(label)   #将numpy转为tensor\n",
    "label=label.to(torch.float32)"
   ]
  },
  {
   "cell_type": "code",
   "execution_count": 45,
   "id": "d59cb81d",
   "metadata": {},
   "outputs": [
    {
     "name": "stdout",
     "output_type": "stream",
     "text": [
      "(7077, 1, 32, 32)\n",
      "<class 'torch.Tensor'>\n"
     ]
    }
   ],
   "source": [
    "interaction_image=np.genfromtxt('image_data_1_1.csv',delimiter=',')\n",
    "interaction_image=interaction_image.reshape((7077,1,32,32))\n",
    "print(interaction_image.shape)\n",
    "interaction_image=torch.from_numpy(interaction_image)\n",
    "interaction_image=interaction_image.to(torch.float32)\n",
    "print(type(interaction_image))"
   ]
  },
  {
   "cell_type": "code",
   "execution_count": 46,
   "id": "ec53f821",
   "metadata": {},
   "outputs": [],
   "source": [
    "#将图像和标签拼接为一个数据集，以便进行批处理\n",
    "datasets=Data.TensorDataset(interaction_image,label)"
   ]
  },
  {
   "cell_type": "code",
   "execution_count": 47,
   "id": "45045031",
   "metadata": {},
   "outputs": [
    {
     "name": "stdout",
     "output_type": "stream",
     "text": [
      "7077 0\n"
     ]
    }
   ],
   "source": [
    "#划分训练集测试集   这里暂时使用8:2的划分，后续进行修改\n",
    "train_size=round(1*interaction_image.shape[0])\n",
    "test_size=interaction_image.shape[0]-train_size\n",
    "#test_size=round(0.1*interaction_image.shape[0])\n",
    "#valid_size=interaction_image.shape[0]-train_size-test_size\n",
    "#print(train_size,test_size,valid_size)\n",
    "print(train_size,test_size)\n",
    "train_dataset,test_dataset=Data.random_split(datasets,[train_size,test_size])\n",
    "#train_dataset,test_dataset,valid_dataset=Data.random_split(datasets,[train_size,test_size,valid_size])"
   ]
  },
  {
   "cell_type": "code",
   "execution_count": 48,
   "id": "e78bb983",
   "metadata": {},
   "outputs": [],
   "source": [
    "#将数据集作为参数传递给DataLoader。这在我们的数据集上包裹了一个可迭代的数据集，并支持自\n",
    "#动批处理、采样、洗牌和多进程数据加载。在这里，我们定义了一个64的批处理大小，即dataloader可\n",
    "#迭代的每个元素将返回一个批次，包括64个元素的特征和标签。\n",
    "batch_size=32\n",
    "#创建数据加载器，也就是迭代器，分批次\n",
    "train_dataloader=DataLoader(train_dataset,batch_size=batch_size)\n",
    "test_dataloader=DataLoader(test_dataset,batch_size=batch_size)\n",
    "#valid_dataloader=DataLoader(valid_dataset,batch_size=batch_size)\n",
    "\n",
    "\n",
    "#用所有的数据进行训练试一下\n",
    "#train_dataloader2=DataLoader(datasets,batch_size=batch_size)"
   ]
  },
  {
   "cell_type": "code",
   "execution_count": 136,
   "id": "ebdb3929",
   "metadata": {},
   "outputs": [
    {
     "name": "stdout",
     "output_type": "stream",
     "text": [
      "Using cuda device\n"
     ]
    }
   ],
   "source": [
    "#用pytorch构建神经网络\n",
    "#为了在PyTorch中定义一个神经网络，我们创建一个继承自nn.Module的类。我们在init函数中定义网络\n",
    "#的层，并在forward函数中指定数据将如何通过网络。为了加速神经网络的操作，如果有GPU的话，我\n",
    "#们把它移到GPU上\n",
    "\n",
    "device=\"cuda\" if torch.cuda.is_available() else \"cpu\"\n",
    "print(\"Using {} device\".format(device))\n",
    "\n",
    "class CnncNet(nn.Module):\n",
    "    def __init__(self):\n",
    "        super(CnncNet,self).__init__()\n",
    "        #self.flatten=nn.Flatten()\n",
    "        self.conv=nn.Sequential(\n",
    "            nn.Conv2d(in_channels=1,out_channels=32,kernel_size=3,padding=1),    # 输入(1,1,32,32)     输出 (1,32,32,32)  第一个1代表批量大小\n",
    "            nn.ReLU(),   \n",
    "            nn.Conv2d(in_channels=32,out_channels=32,kernel_size=(3,3)),     #输入(1,32,32,32)  输出(1,32,30,30)\n",
    "            nn.ReLU(),\n",
    "            nn.MaxPool2d(2,2),         #输出 (1,32,15,15)\n",
    "            nn.Dropout2d(0.25),        ## 表示每个神经元有0.25的可能性不被激活  Dropout只能用在训练部分而不能用在测试部分\n",
    "    \n",
    "            nn.Conv2d(in_channels=32,out_channels=64,kernel_size=(3,3),padding=(1,1)),     #输入(1,32,15,15)  #输出(1,64,15,15)\n",
    "            nn.ReLU(),\n",
    "            nn.Conv2d(in_channels=64,out_channels=64,kernel_size=(3,3)),      #输入(1,64,15,15)   输出(1,64,13,13)\n",
    "            nn.ReLU(),\n",
    "            nn.MaxPool2d(2,2),\n",
    "            nn.Dropout2d(0.25),\n",
    "    \n",
    "            nn.Conv2d(in_channels=64,out_channels=128,kernel_size=(3,3),padding=(1,1)),\n",
    "            nn.ReLU(),\n",
    "            nn.Conv2d(in_channels=128,out_channels=128,kernel_size=(3,3)),\n",
    "            nn.ReLU(),\n",
    "            nn.MaxPool2d(2,2),\n",
    "            nn.Dropout2d(0.25),\n",
    "            nn.Flatten(),      #结果为 (1,512)\n",
    "            #后续添加的层\n",
    "            nn.Linear(in_features=512,out_features=512),\n",
    "            nn.ReLU(),\n",
    "            nn.Dropout(0.5),\n",
    "            nn.Linear(in_features=512,out_features=1),    #out_feaures=1是将二分类输出为一个神经元，若是必须得2个，后续在修改，标签也要修改\n",
    "            nn.Sigmoid()   \n",
    "            \n",
    "        )\n",
    "        #self.FC1=nn.Linear(512,512)\n",
    "        #self.FC2=nn.Linear(512,1)\n",
    "        #self.Sg=nn.Sigmoid()\n",
    "        #self.Rl=nn.ReLU()\n",
    "        #self.dr=nn.Dropout(0.5)\n",
    "    def forward(self,x):\n",
    "        logits=self.conv(x)\n",
    "        #x=logits.reshape(logits.shape[0],-1)\n",
    "        #x=self.FC1(x)\n",
    "        #x=self.Rl(x)\n",
    "        #x=self.dr(x)\n",
    "        #x=self.FC2(x)\n",
    "        #logits=self.Sg(x)\n",
    "        \n",
    "        return logits"
   ]
  },
  {
   "cell_type": "code",
   "execution_count": 137,
   "id": "381b049e",
   "metadata": {},
   "outputs": [
    {
     "name": "stdout",
     "output_type": "stream",
     "text": [
      "CnncNet(\n",
      "  (conv): Sequential(\n",
      "    (0): Conv2d(1, 32, kernel_size=(3, 3), stride=(1, 1), padding=(1, 1))\n",
      "    (1): ReLU()\n",
      "    (2): Conv2d(32, 32, kernel_size=(3, 3), stride=(1, 1))\n",
      "    (3): ReLU()\n",
      "    (4): MaxPool2d(kernel_size=2, stride=2, padding=0, dilation=1, ceil_mode=False)\n",
      "    (5): Dropout2d(p=0.25, inplace=False)\n",
      "    (6): Conv2d(32, 64, kernel_size=(3, 3), stride=(1, 1), padding=(1, 1))\n",
      "    (7): ReLU()\n",
      "    (8): Conv2d(64, 64, kernel_size=(3, 3), stride=(1, 1))\n",
      "    (9): ReLU()\n",
      "    (10): MaxPool2d(kernel_size=2, stride=2, padding=0, dilation=1, ceil_mode=False)\n",
      "    (11): Dropout2d(p=0.25, inplace=False)\n",
      "    (12): Conv2d(64, 128, kernel_size=(3, 3), stride=(1, 1), padding=(1, 1))\n",
      "    (13): ReLU()\n",
      "    (14): Conv2d(128, 128, kernel_size=(3, 3), stride=(1, 1))\n",
      "    (15): ReLU()\n",
      "    (16): MaxPool2d(kernel_size=2, stride=2, padding=0, dilation=1, ceil_mode=False)\n",
      "    (17): Dropout2d(p=0.25, inplace=False)\n",
      "    (18): Flatten(start_dim=1, end_dim=-1)\n",
      "    (19): Linear(in_features=512, out_features=512, bias=True)\n",
      "    (20): ReLU()\n",
      "    (21): Dropout(p=0.5, inplace=False)\n",
      "    (22): Linear(in_features=512, out_features=1, bias=True)\n",
      "    (23): Sigmoid()\n",
      "  )\n",
      ")\n"
     ]
    }
   ],
   "source": [
    "#创建模型\n",
    "model=CnncNet().to(device)\n",
    "print(model)"
   ]
  },
  {
   "cell_type": "code",
   "execution_count": 138,
   "id": "6decbc8f",
   "metadata": {},
   "outputs": [
    {
     "data": {
      "text/plain": [
       "<All keys matched successfully>"
      ]
     },
     "execution_count": 138,
     "metadata": {},
     "output_type": "execute_result"
    }
   ],
   "source": [
    "model.load_state_dict(torch.load(\"WGCNA_CNN_2023.11.15_accuracy_80_roc_0.9_bar_plot.pth\"))"
   ]
  },
  {
   "cell_type": "code",
   "execution_count": 139,
   "id": "77b25dde",
   "metadata": {},
   "outputs": [],
   "source": [
    "def show_ROC(label,pred):\n",
    "    fpr,tpr,threshold = roc_curve(label, pred) ###计算真正率和假正率\n",
    "    roc_auc=auc(fpr,tpr)###计算auc的值\n",
    "    \n",
    "    plt.figure()\n",
    "    lw = 2\n",
    "    plt.figure(figsize=(6,6))\n",
    "    plt.plot(fpr, tpr, color='darkorange',lw=lw, label='ROC curve (area = %0.3f)' % roc_auc) ###假正率为横坐标，真正率为纵坐标做曲线\n",
    "    plt.plot([0, 1], [0, 1], color='navy', lw=lw, linestyle='--')\n",
    "    plt.xlim([0.0, 1.0])\n",
    "    plt.ylim([0.0, 1.0])\n",
    "    plt.xlabel('FPR')\n",
    "    plt.ylabel('TPR')\n",
    "    plt.title('ROC Curve')\n",
    "    plt.legend(loc=\"lower right\")\n",
    "    plt.grid(False)\n",
    "    plt.savefig (\"model_ROC.png\",dpi=300) \n",
    "    plt.show()     "
   ]
  },
  {
   "cell_type": "code",
   "execution_count": 140,
   "id": "9783c9c7",
   "metadata": {},
   "outputs": [],
   "source": [
    "def ROC_test(ROC_data,model):\n",
    "    score_list=np.array([])\n",
    "    label_list=np.array([])\n",
    "    model.eval()\n",
    "    with torch.no_grad():\n",
    "        for X,y in ROC_data:\n",
    "            X,y=X.to(device),y.to(device)\n",
    "            #X=torch.nn.functional.normalize(X)\n",
    "            pred=model(X)\n",
    "            #pred=torch.round(model(X))\n",
    "            label=y.cpu().numpy()\n",
    "            score=pred.cpu().numpy()\n",
    "            #if score>0.5 and 1-score<0.3:\n",
    "            #    score=score\n",
    "            #elif score>0.5 and 1-score>=0.3:\n",
    "            #    score=score-0.2\n",
    "            #if score<0.5 and score-0<0.3:\n",
    "            #    score=score\n",
    "            #else:\n",
    "            #    score=score+0.2\n",
    "            label_list=np.append(label_list,values=label)\n",
    "            score_list=np.append(score_list,values=score)\n",
    "    print(label_list)\n",
    "    print(score_list)\n",
    "    show_ROC(label_list,score_list)"
   ]
  },
  {
   "cell_type": "code",
   "execution_count": 141,
   "id": "eb3aa511",
   "metadata": {},
   "outputs": [],
   "source": [
    "#模型构建后，要优化模型参数\n",
    "\n",
    "#定义一个损失函数和优化器\n",
    "#loss_fn=nn.CrossEntropyLoss()     #交叉熵损失函数\n",
    "loss_fn=nn.BCELoss()     \n",
    "#optimizer=torch.optim.SGD(model.parameters(),lr=1e-3)   #优化模型参数，学习率是0.001\n",
    "optimizer=torch.optim.Adam(model.parameters(),lr=0.001)    #更换这个优化器，模型提高精度显著"
   ]
  },
  {
   "cell_type": "code",
   "execution_count": 142,
   "id": "273ebc8c",
   "metadata": {},
   "outputs": [],
   "source": [
    "#在一个单一的训练循环中，模型对训练数据集（分批送入）进行预测，并通过反向传播预测误差来调整模型的参数\n",
    "\n",
    "def train(dataloader,model,loss_fn,optimizer):\n",
    "    size=len(dataloader.dataset)     #数据集中的数据总数，例如训练集中size是4782\n",
    "    model.train()\n",
    "    for batch,(X,y) in enumerate(dataloader):\n",
    "        X, y = X.to(device), y.to(device)    #X就是image_data的批次，y就是对应批次的标签\n",
    "        \n",
    "        #计算预测误差\n",
    "        pred=model(X)\n",
    "        loss=loss_fn(pred,y)\n",
    "        #反向传播\n",
    "        optimizer.zero_grad()  #清空过往梯度\n",
    "        loss.backward()  #反向传播，计算当前梯度\n",
    "        optimizer.step() #根据梯度更新网络参数\n",
    "        \n",
    "        if batch %50==0: #到50的整数倍，就输出当前的损失\n",
    "            loss,current=loss.item(),batch*len(X)\n",
    "            print(f\"loss:{loss:>7f}  [{current:>5d}/{size:>5d}]\")"
   ]
  },
  {
   "cell_type": "code",
   "execution_count": 143,
   "id": "fc082537",
   "metadata": {},
   "outputs": [],
   "source": [
    "#还根据测试数据集检查模型的性能，以确保它在学习\n",
    "def test(dataloader,model,loss_fn):\n",
    "    size=len(dataloader.dataset)   #数据集中的行数\n",
    "    num_batches=len(dataloader)    #一共有的批次数,训练集中是150，测试集是38，每一个批次有32个数据及其标签\n",
    "    model.eval()\n",
    "    test_loss,correct=0,0\n",
    "    with torch.no_grad():  #代表张量中的元素不会自动求导，也就不会保存梯度，节省时间和空间\n",
    "        for X,y in dataloader:\n",
    "            X,y=X.to(device),y.to(device)\n",
    "            pred=model(X)\n",
    "            #print(pred)\n",
    "            test_loss+=loss_fn(pred,y).item()\n",
    "            correct+=(torch.abs(pred-y)<0.3).sum().item()\n",
    "        test_loss/=num_batches\n",
    "        correct/=size\n",
    "        print(f\"Test Error: \\n Accuracy: {(100*correct):>0.1f}%, Avg loss:{test_loss:>8f} \\n\")"
   ]
  },
  {
   "cell_type": "code",
   "execution_count": 154,
   "id": "df6a20c3",
   "metadata": {},
   "outputs": [
    {
     "name": "stdout",
     "output_type": "stream",
     "text": [
      "Epoch 1\n",
      "-------------------\n",
      "Epoch 2\n",
      "-------------------\n",
      "Epoch 3\n",
      "-------------------\n",
      "Epoch 4\n",
      "-------------------\n",
      "Epoch 5\n",
      "-------------------\n",
      "25\n",
      "done!\n"
     ]
    }
   ],
   "source": [
    "###############################交叉验证版本：将训练集分为K-1个训练集，1个验证集，结束后，用测试集画roc##############################3\n",
    "kf = KFold(n_splits=5, shuffle=True, random_state=0)\n",
    "epchs=5\n",
    "i=0\n",
    "out_loader=DataLoader(dataset=train_dataset, batch_size=32)\n",
    "for t in range(epchs):\n",
    "    print(f\"Epoch {t+1}\\n-------------------\")\n",
    "    for train_index, val_index in kf.split(train_dataset):   #这里是5次循环\n",
    "        i=i+1\n",
    "        train_fold = torch.utils.data.dataset.Subset(train_dataset, train_index)   #训练集\n",
    "        #print(train_fold)\n",
    "        val_fold = torch.utils.data.dataset.Subset(train_dataset, val_index)      #验证集\n",
    "        #打包成DataLoader类型 用于 训练\n",
    "        train_loader = DataLoader(dataset=train_fold, batch_size=32, shuffle=True)\n",
    "        val_loader = DataLoader(dataset=val_fold, batch_size=32, shuffle=True)\n",
    "        \n",
    "        #ROC_loader=DataLoader(dataset=val_fold, batch_size=1)  #对每个测试集整体画ROC曲线\n",
    "        \n",
    "        #train(train_loader,model,loss_fn,optimizer)\n",
    "        #test(val_loader,model,loss_fn)   #这里仅仅是为了看正确率，判断是否在训练\n",
    "        #在验证集上画roc\n",
    "        #在测试集上画roc\n",
    "        ROC_loader=DataLoader(dataset=val_fold, batch_size=1)  #对每个测试集整体画ROC曲线\n",
    "        out_loader=ROC_loader\n",
    "        #ROC_test(ROC_loader,model)\n",
    "    #ROC_test(ROC_loader,model)\n",
    "print(i)#记录训练了多少次\n",
    "print(\"done!\")"
   ]
  },
  {
   "cell_type": "code",
   "execution_count": 155,
   "id": "d1f8d440",
   "metadata": {},
   "outputs": [
    {
     "name": "stdout",
     "output_type": "stream",
     "text": [
      "[1. 0. 1. ... 0. 0. 1.]\n",
      "[0.70679885 0.15034631 0.70445067 ... 0.00498022 0.30266702 0.98955977]\n"
     ]
    },
    {
     "data": {
      "text/plain": [
       "<Figure size 640x480 with 0 Axes>"
      ]
     },
     "metadata": {},
     "output_type": "display_data"
    },
    {
     "data": {
      "image/png": "[encoded data removed]",
      "text/plain": [
       "<Figure size 600x600 with 1 Axes>"
      ]
     },
     "metadata": {},
     "output_type": "display_data"
    }
   ],
   "source": [
    "ROC_test(out_loader,model)"
   ]
  },
  {
   "cell_type": "code",
   "execution_count": 146,
   "id": "1fb85b5a",
   "metadata": {},
   "outputs": [],
   "source": [
    "#画置信柱状图\n",
    "def show_bar(ROC_data,model):\n",
    "    score_list=np.array([])\n",
    "    label_list=np.array([])\n",
    "    true_list=[0,0,0,0,0]\n",
    "    false_list=[0,0,0,0,0]\n",
    "    model.eval()\n",
    "    with torch.no_grad():\n",
    "        for X,y in ROC_data:\n",
    "            X,y=X.to(device),y.to(device)\n",
    "            #X=torch.nn.functional.normalize(X)\n",
    "            pred=model(X)\n",
    "            #pred=torch.round(model(X))\n",
    "            label=y.cpu().numpy()\n",
    "            score=pred.cpu().numpy()\n",
    "            if score>0 and score<0.2:\n",
    "                if label==0:\n",
    "                    true_list[0]=true_list[0]+1\n",
    "                else:\n",
    "                    false_list[0]=false_list[0]+1\n",
    "            elif score>=0.2 and score<0.4:\n",
    "                if label==0:\n",
    "                    true_list[1]=true_list[1]+1\n",
    "                else:\n",
    "                    false_list[1]=false_list[1]+1\n",
    "            elif score>=0.4 and score<0.5:\n",
    "                if label==0:\n",
    "                    true_list[2]=true_list[2]+1\n",
    "                else:\n",
    "                    false_list[2]=false_list[2]+1\n",
    "            elif score>=0.5 and score<0.6:\n",
    "                if label==1:\n",
    "                    true_list[2]=true_list[2]+1\n",
    "                else:\n",
    "                    false_list[2]=false_list[2]+1\n",
    "            elif score>=0.6 and score<0.8:\n",
    "                if label==1:\n",
    "                    true_list[3]=true_list[3]+1\n",
    "                else:\n",
    "                    false_list[3]=false_list[3]+1\n",
    "            else :\n",
    "                if label==1:\n",
    "                    true_list[4]=true_list[4]+1\n",
    "                else:\n",
    "                    false_list[4]=false_list[4]+1\n",
    "            #if score>0.5 and 1-score<0.3:\n",
    "            #    score=score\n",
    "            #elif score>0.5 and 1-score>=0.3:\n",
    "            #    score=score-0.2\n",
    "            #if score<0.5 and score-0<0.3:\n",
    "            #    score=score\n",
    "            #else:\n",
    "            #    score=score+0.2\n",
    "            label_list=np.append(label_list,values=label)\n",
    "            score_list=np.append(score_list,values=score)\n",
    "    sum=true_list[0]+true_list[1]+true_list[2]+true_list[3]+true_list[4]\n",
    "    print(sum)\n",
    "    regions = [\"0-0.2\", \"0.2-0.4\", \"0.4-0.6\", \"0.6-0.8\", \"0.8-1\"]\n",
    "    true_1 = [true_list[0], true_list[1], true_list[2], true_list[3], true_list[4]]\n",
    "    false_2 = [false_list[0], false_list[1],false_list[2],false_list[3], false_list[4]]\n",
    "\n",
    "    fig, ax = plt.subplots(figsize=(10, 7))\n",
    "    # 先创建一根柱子，显示各个区间true\n",
    "    ax.bar(regions, true_1, color=[0.8,0.1,0.2], label=\"True_prediction\")\n",
    "    # 第二根柱子“堆积”在第一根柱子上方，通过'bottom'调整，显示false\n",
    "    ax.bar(regions, false_2, color=[0.1,0.9,0.2], bottom=true_1, label=\"False_prediction\")\n",
    "\n",
    "    ax.set_title(\"Model probability stacked bar plot\", fontsize=15)\n",
    "    ax.set_xlabel(\"Probability interval\")\n",
    "    ax.set_ylabel(\"Sample numbers\")\n",
    "    ax.legend()\n",
    "    plt.grid(False)\n",
    "    plt.savefig (\"confidence.png\",dpi=300) \n",
    "    plt.show()\n",
    "    "
   ]
  },
  {
   "cell_type": "code",
   "execution_count": 147,
   "id": "6a94d1f2",
   "metadata": {},
   "outputs": [
    {
     "name": "stdout",
     "output_type": "stream",
     "text": [
      "1280\n"
     ]
    },
    {
     "data": {
      "image/png": "[encoded data removed]",
      "text/plain": [
       "<Figure size 1000x700 with 1 Axes>"
      ]
     },
     "metadata": {},
     "output_type": "display_data"
    }
   ],
   "source": [
    "show_bar(out_loader,model)"
   ]
  },
  {
   "cell_type": "code",
   "execution_count": null,
   "id": "adc9b5ab",
   "metadata": {},
   "outputs": [],
   "source": []
  }
 ],
 "metadata": {
  "kernelspec": {
   "display_name": "Python 3 (ipykernel)",
   "language": "python",
   "name": "python3"
  },
  "language_info": {
   "codemirror_mode": {
    "name": "ipython",
    "version": 3
   },
   "file_extension": ".py",
   "mimetype": "text/x-python",
   "name": "python",
   "nbconvert_exporter": "python",
   "pygments_lexer": "ipython3",
   "version": "3.11.5"
  }
 },
 "nbformat": 4,
 "nbformat_minor": 5
}
